{
 "cells": [
  {
   "cell_type": "code",
   "execution_count": 1,
   "id": "2e7e48c0",
   "metadata": {},
   "outputs": [],
   "source": [
    "# imports and stuff\n",
    "%matplotlib inline\n",
    "from sklearn import svm\n",
    "from matplotlib import pyplot as plt\n",
    "import numpy as np"
   ]
  },
  {
   "cell_type": "code",
   "execution_count": 2,
   "id": "bc9192f8",
   "metadata": {},
   "outputs": [],
   "source": [
    "X = np.array([[0, 0],\n",
    "     [0, 1],\n",
    "     [1, 0],\n",
    "     [1, 1]])\n",
    "y = np.array([0, \n",
    "     1,\n",
    "     1,\n",
    "     0])"
   ]
  },
  {
   "cell_type": "code",
   "execution_count": 3,
   "id": "0bfe9043",
   "metadata": {},
   "outputs": [
    {
     "data": {
      "image/png": "[encoded data removed]",
      "text/plain": [
       "<Figure size 432x288 with 1 Axes>"
      ]
     },
     "metadata": {
      "needs_background": "light"
     },
     "output_type": "display_data"
    }
   ],
   "source": [
    "# plot the data for visualization\n",
    "data = dict()\n",
    "data['a'] = X[:, 0]\n",
    "data['b'] = X[:, 1] \n",
    "data['a^b'] = y\n",
    "plt.scatter(\"a\", \"b\",c='a^b' ,data=data)\n",
    "plt.xlabel(\"a\")\n",
    "plt.ylabel(\"b\")\n",
    "plt.show()"
   ]
  },
  {
   "cell_type": "markdown",
   "id": "026a73b6",
   "metadata": {},
   "source": [
    "We can see from the above graph that the xor model is non-linear"
   ]
  },
  {
   "cell_type": "code",
   "execution_count": 4,
   "id": "1777dab1",
   "metadata": {},
   "outputs": [
    {
     "data": {
      "text/plain": [
       "array([0])"
      ]
     },
     "execution_count": 4,
     "metadata": {},
     "output_type": "execute_result"
    }
   ],
   "source": [
    "# lets apply linear svm to see it fail miserably\n",
    "clf = svm.LinearSVC()\n",
    "clf.fit(X, y)\n",
    "clf.predict([[0, 1]])"
   ]
  },
  {
   "cell_type": "markdown",
   "id": "65d4446c",
   "metadata": {},
   "source": [
    "The linear model failed as we can see from above prediction, now we can apply a polynomial kernel and get correct predictions."
   ]
  },
  {
   "cell_type": "code",
   "execution_count": 5,
   "id": "c90da683",
   "metadata": {},
   "outputs": [
    {
     "data": {
      "text/plain": [
       "array([0])"
      ]
     },
     "execution_count": 5,
     "metadata": {},
     "output_type": "execute_result"
    }
   ],
   "source": [
    "# lets apply polynomial kernel SVM\n",
    "clf = svm.SVC(kernel=\"poly\", degree=2)\n",
    "clf.fit(X, y)\n",
    "clf.predict([[0, 0]])"
   ]
  },
  {
   "cell_type": "code",
   "execution_count": null,
   "id": "963f4cdb",
   "metadata": {},
   "outputs": [],
   "source": []
  }
 ],
 "metadata": {
  "kernelspec": {
   "display_name": "Python 3",
   "language": "python",
   "name": "python3"
  },
  "language_info": {
   "codemirror_mode": {
    "name": "ipython",
    "version": 3
   },
   "file_extension": ".py",
   "mimetype": "text/x-python",
   "name": "python",
   "nbconvert_exporter": "python",
   "pygments_lexer": "ipython3",
   "version": "3.9.5"
  }
 },
 "nbformat": 4,
 "nbformat_minor": 5
}
